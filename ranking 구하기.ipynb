{
 "cells": [
  {
   "cell_type": "code",
   "execution_count": 1,
   "metadata": {},
   "outputs": [],
   "source": [
    "import pandas as pd\n",
    "from sklearn.preprocessing import MinMaxScaler"
   ]
  },
  {
   "cell_type": "markdown",
   "metadata": {},
   "source": [
    "### 종로구"
   ]
  },
  {
   "cell_type": "code",
   "execution_count": 3,
   "metadata": {},
   "outputs": [],
   "source": [
    "종로구 = pd.read_csv('종로구_total_계수.csv',index_col = 0)\n",
    "종로page= pd.read_csv('종로구_pagerank.csv', index_col = 0)\n",
    "종로구=종로구[['동', '매출상관계수']]\n",
    "종로page = 종로page.reset_index()[['동','pm10_pagerank']]\n",
    "종로구 = 종로구.merge(종로page, on='동')\n",
    "종로구.columns = ['동','매출하락','미세먼지']"
   ]
  },
  {
   "cell_type": "code",
   "execution_count": 4,
   "metadata": {},
   "outputs": [
    {
     "name": "stderr",
     "output_type": "stream",
     "text": [
      "C:\\Users\\dty\\.conda\\envs\\June\\lib\\site-packages\\ipykernel_launcher.py:2: SettingWithCopyWarning: \n",
      "A value is trying to be set on a copy of a slice from a DataFrame\n",
      "\n",
      "See the caveats in the documentation: http://pandas.pydata.org/pandas-docs/stable/indexing.html#indexing-view-versus-copy\n",
      "  \n",
      "C:\\Users\\dty\\.conda\\envs\\June\\lib\\site-packages\\ipykernel_launcher.py:3: SettingWithCopyWarning: \n",
      "A value is trying to be set on a copy of a slice from a DataFrame\n",
      "\n",
      "See the caveats in the documentation: http://pandas.pydata.org/pandas-docs/stable/indexing.html#indexing-view-versus-copy\n",
      "  This is separate from the ipykernel package so we can avoid doing imports until\n"
     ]
    }
   ],
   "source": [
    "시설 = pd.read_csv('jr_랭킹(민감시설+아이전용시설).csv', index_col = 0)\n",
    "시설['행정동'][0] = '종로 1,2,3,4가동'\n",
    "시설['행정동'][3] = '종로5,6가동'\n",
    "시설.columns = ['랭킹','동','아동전용시설수']\n",
    "시설 = 시설[['동','아동전용시설수']]\n",
    "종로구 = 종로구.merge(시설,on='동',how = 'left')\n",
    "종로구 =종로구.fillna(value= 1)  #nan 값은 1로 채워줌. 나중에 분모가 0이 되는것을 방지. \n",
    "종로구['매출하락']=-종로구['매출하락'] #음의 상관관계를 양의 상관관계로"
   ]
  },
  {
   "cell_type": "code",
   "execution_count": 5,
   "metadata": {},
   "outputs": [],
   "source": [
    "a = pd.read_csv('중경형님여기용.csv', index_col = 0)[['동', '0세부터9세생활인구수']]\n",
    "종로구 = 종로구.merge(a, on='동').set_index('동')\n",
    "종로구 = 종로구[['미세먼지', '매출하락', '아동전용시설수', '0세부터9세생활인구수']]\n",
    "종로구.columns = ['미세먼지', '매출하락', '아동전용시설수', '아동생활인구수']\n",
    "종로구['아동생활인구/시설수']=종로구['아동생활인구수']/종로구['아동전용시설수']"
   ]
  },
  {
   "cell_type": "code",
   "execution_count": 6,
   "metadata": {},
   "outputs": [],
   "source": [
    "종로구.to_csv('종로구_마지막날_라스트.csv') #저장 및 구글데이터 스튜디오에서 시각화"
   ]
  },
  {
   "cell_type": "code",
   "execution_count": 7,
   "metadata": {},
   "outputs": [],
   "source": [
    "#스케일 0~1로 맞춰주기\n",
    "aa0 = 종로구['미세먼지'].to_list()\n",
    "aa1 = 종로구['매출하락'].to_list()\n",
    "result = list(map(lambda x, y: [x, y], aa0, aa1))\n",
    "scaler = MinMaxScaler()\n",
    "scaler.fit(result)\n",
    "MinMaxScaler(copy=True, feature_range=(0, 1))\n",
    "scaler.transform(result)\n",
    "a = pd.DataFrame(scaler.transform(result))\n",
    "aa0 = 종로구['아동전용시설수'].to_list()\n",
    "aa1 = 종로구['아동생활인구수'].to_list()\n",
    "result = list(map(lambda x, y: [x, y], aa0, aa1))\n",
    "scaler = MinMaxScaler()\n",
    "scaler.fit(result)\n",
    "MinMaxScaler(copy=True, feature_range=(0, 1))\n",
    "scaler.transform(result)\n",
    "b = pd.DataFrame(scaler.transform(result))\n",
    "aa0 = 종로구['아동전용시설수'].to_list()\n",
    "aa1 = 종로구['아동생활인구/시설수'].to_list()\n",
    "result = list(map(lambda x, y: [x, y], aa0, aa1))\n",
    "scaler = MinMaxScaler()\n",
    "scaler.fit(result)\n",
    "MinMaxScaler(copy=True, feature_range=(0, 1))\n",
    "scaler.transform(result)\n",
    "c = pd.DataFrame(scaler.transform(result))"
   ]
  },
  {
   "cell_type": "code",
   "execution_count": 9,
   "metadata": {},
   "outputs": [],
   "source": [
    "a.columns = ['미세먼지','매출하락']\n",
    "b.columns = ['아동전용시설수','아동생활인구수']\n",
    "c.columns = ['아동전용시설수','아동생활인구/시설수']\n",
    "종로구 = 종로구.reset_index()[['동']].join(a).join(b).join(c['아동생활인구/시설수'])\n",
    "종로구.set_index('동').to_csv('종로구_라스트_스케일.csv') ##스케일 맞춤"
   ]
  },
  {
   "cell_type": "markdown",
   "metadata": {},
   "source": [
    "### 노원구"
   ]
  },
  {
   "cell_type": "code",
   "execution_count": 11,
   "metadata": {},
   "outputs": [
    {
     "name": "stderr",
     "output_type": "stream",
     "text": [
      "C:\\Users\\dty\\.conda\\envs\\June\\lib\\site-packages\\ipykernel_launcher.py:8: SettingWithCopyWarning: \n",
      "A value is trying to be set on a copy of a slice from a DataFrame\n",
      "\n",
      "See the caveats in the documentation: http://pandas.pydata.org/pandas-docs/stable/indexing.html#indexing-view-versus-copy\n",
      "  \n"
     ]
    }
   ],
   "source": [
    "노원구 = pd.read_csv('노원구_total_계수.csv', index_col = 0)\n",
    "노원page= pd.read_csv('노원구_pagerank.csv', index_col = 0)\n",
    "노원구=노원구[['동', '매출상관계수']]\n",
    "노원page = 노원page.reset_index()[['동','pm10_pagerank']]\n",
    "노원구 = 노원구.merge(노원page, on='동')\n",
    "시설 = pd.read_csv('nw_랭킹(민감시설+아이전용시설).csv', index_col = 0)\n",
    "for idx,val in enumerate(시설['행정동']):\n",
    "    시설['행정동'][idx]=val.replace('.',',')\n",
    "시설.columns = ['랭킹','동','아동전용시설수']\n",
    "시설 = 시설[['동','아동전용시설수']]    \n",
    "노원구 = 노원구.merge(시설,on='동',how = 'left')\n",
    "노원구 = 노원구.fillna(value= 1)\n",
    "노원구['매출상관계수']=-노원구['매출상관계수']\n",
    "\n",
    "a = pd.read_csv('중경형님여기용.csv', index_col = 0)[['동', '0세부터9세생활인구수']]\n",
    "노원구 = 노원구.merge(a, on='동').set_index('동')\n",
    "노원구.columns = ['매출하락','미세먼지', '아동전용시설수', '아동생활인구수']\n",
    "노원구 = 노원구[['미세먼지', '매출하락', '아동전용시설수', '아동생활인구수']]\n",
    "노원구['아동생활인구/시설수']=노원구['아동생활인구수']/노원구['아동전용시설수']\n",
    "노원구.to_csv('노원구_마지막날_라스트.csv')"
   ]
  },
  {
   "cell_type": "code",
   "execution_count": 12,
   "metadata": {},
   "outputs": [],
   "source": [
    "###스케일 맞추기\n",
    "aa0 = 노원구['미세먼지'].to_list()\n",
    "aa1 = 노원구['매출하락'].to_list()\n",
    "result = list(map(lambda x, y: [x, y], aa0, aa1))\n",
    "scaler = MinMaxScaler()\n",
    "scaler.fit(result)\n",
    "MinMaxScaler(copy=True, feature_range=(0, 1))\n",
    "scaler.transform(result)\n",
    "a = pd.DataFrame(scaler.transform(result))\n",
    "aa0 = 노원구['아동전용시설수'].to_list()\n",
    "aa1 = 노원구['아동생활인구수'].to_list()\n",
    "result = list(map(lambda x, y: [x, y], aa0, aa1))\n",
    "scaler = MinMaxScaler()\n",
    "scaler.fit(result)\n",
    "MinMaxScaler(copy=True, feature_range=(0, 1))\n",
    "scaler.transform(result)\n",
    "b = pd.DataFrame(scaler.transform(result))\n",
    "aa0 = 노원구['아동전용시설수'].to_list()\n",
    "aa1 = 노원구['아동생활인구/시설수'].to_list()\n",
    "result = list(map(lambda x, y: [x, y], aa0, aa1))\n",
    "scaler = MinMaxScaler()\n",
    "scaler.fit(result)\n",
    "MinMaxScaler(copy=True, feature_range=(0, 1))\n",
    "scaler.transform(result)\n",
    "c = pd.DataFrame(scaler.transform(result))"
   ]
  },
  {
   "cell_type": "code",
   "execution_count": 14,
   "metadata": {},
   "outputs": [],
   "source": [
    "a.columns = ['미세먼지','매출하락']\n",
    "b.columns = ['아동전용시설수','아동생활인구수']\n",
    "c.columns = ['아동전용시설수','아동생활인구/시설수']\n",
    "노원구 = 노원구.reset_index()[['동']].join(a).join(b).join(c['아동생활인구/시설수'])\n",
    "노원구.set_index('동').to_csv('노원구_라스트_스케일.csv')"
   ]
  }
 ],
 "metadata": {
  "kernelspec": {
   "display_name": "Python 3",
   "language": "python",
   "name": "python3"
  },
  "language_info": {
   "codemirror_mode": {
    "name": "ipython",
    "version": 3
   },
   "file_extension": ".py",
   "mimetype": "text/x-python",
   "name": "python",
   "nbconvert_exporter": "python",
   "pygments_lexer": "ipython3",
   "version": "3.6.8"
  }
 },
 "nbformat": 4,
 "nbformat_minor": 2
}
