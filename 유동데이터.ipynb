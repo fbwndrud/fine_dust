{
 "cells": [
  {
   "cell_type": "code",
   "execution_count": 1,
   "metadata": {},
   "outputs": [],
   "source": [
    "import seaborn as sns\n",
    "import matplotlib.pyplot as plt"
   ]
  },
  {
   "cell_type": "code",
   "execution_count": 2,
   "metadata": {},
   "outputs": [],
   "source": [
    "from os import listdir\n",
    "from os.path import isfile, join\n",
    "import pandas as pd\n",
    "\n",
    "def read_csv_infolder(source_folder):\n",
    "    csv_files = [f for f in listdir(source_folder) if isfile(join(source_folder, f))]\n",
    "    new_list = []\n",
    "    for i,v in enumerate(csv_files):\n",
    "        new_dict ={}\n",
    "        if 'txt' in v:\n",
    "            new_dict['sub'] = pd.read_csv(r'{}\\{}'.format(source_folder,v),sep = '\\t',encoding = 'utf-8')\n",
    "            new_dict['title'] = v\n",
    "            new_list.append(new_dict)\n",
    "        elif 'csv' or 'CSV' in v:\n",
    "            new_dict['sub'] = pd.read_csv(r'{}\\{}'.format(source_folder,v),sep = '|',encoding = 'utf-8')\n",
    "            new_dict['title'] = v\n",
    "            new_list.append(new_dict)\n",
    "    new_df = pd.DataFrame(new_list)\n",
    "    return new_df"
   ]
  },
  {
   "cell_type": "code",
   "execution_count": 35,
   "metadata": {},
   "outputs": [],
   "source": [
    "udong_gender = r'.\\이노베이션(미세먼지)\\유동인구데이터\\성연령유동'\n",
    "udong_time = r'.\\이노베이션(미세먼지)\\유동인구데이터\\시간대유동'"
   ]
  },
  {
   "cell_type": "code",
   "execution_count": 36,
   "metadata": {},
   "outputs": [],
   "source": [
    "move_people=read_csv_infolder(udong_time)"
   ]
  },
  {
   "cell_type": "code",
   "execution_count": 37,
   "metadata": {},
   "outputs": [],
   "source": [
    "for i in range(len(move_people)):\n",
    "    if i == 0:\n",
    "        a = move_people['sub'][i]\n",
    "    else:\n",
    "        a = a.append(move_people['sub'][i])"
   ]
  },
  {
   "cell_type": "code",
   "execution_count": 38,
   "metadata": {},
   "outputs": [],
   "source": [
    "a.HDONG_CD = a.HDONG_CD.astype('str')\n",
    "a.HDONG_CD = a.HDONG_CD.map(lambda x : x[:-2])\n",
    "a.STD_YMD = a.STD_YMD.astype('str')\n",
    "a.STD_YMD = a.STD_YMD.map(lambda x : x[:4]+'-'+x[4:6]+'-'+x[6:])"
   ]
  },
  {
   "cell_type": "code",
   "execution_count": 39,
   "metadata": {},
   "outputs": [],
   "source": [
    "mi = pd.read_csv('미세먼지.csv',index_col=0)\n",
    "mi = mi.rename(columns={'date_daily':'STD_DD','code':'LOC_CD'})\n",
    "mi = mi.groupby('STD_DD').mean().drop(columns=['LOC_CD'])\n",
    "mi = mi.reset_index()\n",
    "mi.STD_DD = mi.STD_DD.astype('str')\n",
    "mi.STD_DD = mi.STD_DD.map(lambda x : x[:4]+'-'+x[4:6]+'-'+x[6:])\n",
    "\n",
    "gong = pd.read_csv('공휴일여부.csv',index_col=0)\n",
    "gong = gong.rename(columns= {'date':'STD_DD'})\n",
    "\n",
    "mi = mi.merge(gong,how='left',on='STD_DD')\n",
    "mi = mi.rename(columns = {'STD_DD':'STD_YMD'})"
   ]
  },
  {
   "cell_type": "code",
   "execution_count": 40,
   "metadata": {},
   "outputs": [],
   "source": [
    "a = a.merge(mi,how='left',on = 'STD_YMD')"
   ]
  },
  {
   "cell_type": "code",
   "execution_count": 42,
   "metadata": {},
   "outputs": [],
   "source": [
    "a.groupby('STD_YM').mean().to_csv('해보자.csv')"
   ]
  },
  {
   "cell_type": "code",
   "execution_count": 27,
   "metadata": {},
   "outputs": [],
   "source": [
    "a = a.groupby('STD_YMD').mean()"
   ]
  },
  {
   "cell_type": "code",
   "execution_count": 11,
   "metadata": {},
   "outputs": [],
   "source": [
    "new_dict = {}\n",
    "for i in a.columns[1:-3]:\n",
    "    new_dict[i] = i[-2:]\n",
    "a = a.rename(columns = new_dict)"
   ]
  },
  {
   "cell_type": "code",
   "execution_count": 13,
   "metadata": {},
   "outputs": [],
   "source": [
    "a.to_csv('시간별유동인구.csv')"
   ]
  },
  {
   "cell_type": "code",
   "execution_count": 110,
   "metadata": {},
   "outputs": [
    {
     "name": "stderr",
     "output_type": "stream",
     "text": [
      "C:\\Users\\82102\\Anaconda3\\envs\\my_python\\lib\\site-packages\\ipykernel_launcher.py:1: UserWarning: Boolean Series key will be reindexed to match DataFrame index.\n",
      "  \"\"\"Entry point for launching an IPython kernel.\n"
     ]
    },
    {
     "data": {
      "text/plain": [
       "STD_YM    201858.965517\n",
       "00          1014.020019\n",
       "01           659.898697\n",
       "02           485.046284\n",
       "03           435.394288\n",
       "04           714.257516\n",
       "05          1538.980731\n",
       "06          3202.606328\n",
       "07          7343.677832\n",
       "08          8140.286102\n",
       "09          5853.676612\n",
       "10          4978.533442\n",
       "11          5146.757692\n",
       "12          5243.634844\n",
       "13          5368.731383\n",
       "14          5220.538119\n",
       "15          5424.735450\n",
       "16          5723.962551\n",
       "17          6627.187254\n",
       "18          7456.683681\n",
       "19          5105.515530\n",
       "20          3959.318404\n",
       "21          3864.555830\n",
       "22          3154.450166\n",
       "23          2057.599725\n",
       "pm10          90.669404\n",
       "pm25          52.525780\n",
       "공휴일여부          0.000000\n",
       "dtype: float64"
      ]
     },
     "execution_count": 110,
     "metadata": {},
     "output_type": "execute_result"
    }
   ],
   "source": [
    "a[a.pm10>60][a.공휴일여부==0].mean(axis=0)"
   ]
  },
  {
   "cell_type": "code",
   "execution_count": 125,
   "metadata": {},
   "outputs": [
    {
     "name": "stderr",
     "output_type": "stream",
     "text": [
      "C:\\Users\\82102\\Anaconda3\\envs\\my_python\\lib\\site-packages\\ipykernel_launcher.py:7: UserWarning: Boolean Series key will be reindexed to match DataFrame index.\n",
      "  import sys\n",
      "C:\\Users\\82102\\Anaconda3\\envs\\my_python\\lib\\site-packages\\ipykernel_launcher.py:8: UserWarning: Boolean Series key will be reindexed to match DataFrame index.\n",
      "  \n",
      "C:\\Users\\82102\\Anaconda3\\envs\\my_python\\lib\\site-packages\\ipykernel_launcher.py:9: UserWarning: Boolean Series key will be reindexed to match DataFrame index.\n",
      "  if __name__ == '__main__':\n"
     ]
    },
    {
     "data": {
      "image/png": "[encoded data removed]",
      "text/plain": [
       "<Figure size 432x288 with 1 Axes>"
      ]
     },
     "metadata": {
      "needs_background": "light"
     },
     "output_type": "display_data"
    }
   ],
   "source": [
    "import numpy as np\n",
    "from matplotlib.pylab import plt #load plot library\n",
    "# indicate the output of plotting function is printed to the notebook\n",
    "%matplotlib inline \n",
    "\n",
    "X = a[a.pm10>50 ][a.공휴일여부==0].mean(axis=0)[1:-3]\n",
    "Y = a[a.pm10>60][a.공휴일여부==0].mean(axis=0)[1:-3]\n",
    "Z = a[a.pm10>100][a.공휴일여부==1].mean(axis=0)[1:-3]\n",
    "Q = a[a.pm10<=100][a.공휴일여부==1].mean(axis=0)[1:-3]\n",
    "# Plotting functionality starts here\n",
    "plt.plot(X , label=\"HI-MI,WEEKDAY\")\n",
    "plt.plot(Y , label=\"LOW-MI,WEEKDAY\")\n",
    "plt.plot(Z, label=\"HI-MI,HOLYDAY\")\n",
    "plt.plot(Q, label=\"LOW-MI,HOLYDAY\")\n",
    "plt.legend(loc='lower left')\n",
    "plt.show()"
   ]
  },
  {
   "cell_type": "code",
   "execution_count": 126,
   "metadata": {},
   "outputs": [],
   "source": [
    "import geopandas"
   ]
  },
  {
   "cell_type": "code",
   "execution_count": null,
   "metadata": {},
   "outputs": [],
   "source": []
  }
 ],
 "metadata": {
  "kernelspec": {
   "display_name": "Python 3",
   "language": "python",
   "name": "python3"
  },
  "language_info": {
   "codemirror_mode": {
    "name": "ipython",
    "version": 3
   },
   "file_extension": ".py",
   "mimetype": "text/x-python",
   "name": "python",
   "nbconvert_exporter": "python",
   "pygments_lexer": "ipython3",
   "version": "3.6.8"
  }
 },
 "nbformat": 4,
 "nbformat_minor": 2
}
