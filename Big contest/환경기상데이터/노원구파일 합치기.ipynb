{
 "cells": [
  {
   "cell_type": "code",
   "execution_count": null,
   "metadata": {},
   "outputs": [],
   "source": [
    "import pandas as pd"
   ]
  },
  {
   "cell_type": "code",
   "execution_count": null,
   "metadata": {},
   "outputs": [],
   "source": [
    "from os import listdir\n",
    "from os.path import isfile, join\n",
    "import pandas as pd\n",
    "\n",
    "def read_csv_infolder(source_folder):\n",
    "    csv_files = [f for f in listdir(source_folder) if isfile(join(source_folder, f))]\n",
    "    new_list = []\n",
    "    for i,v in enumerate(csv_files):\n",
    "        new_dict ={}\n",
    "        if 'txt' in v:\n",
    "            new_dict['sub'] = pd.read_csv(r'{}\\{}'.format(source_folder,v),sep = '\\t',encoding = 'utf-8')\n",
    "            new_dict['title'] = v\n",
    "            new_list.append(new_dict)\n",
    "        elif 'csv' in v:\n",
    "            new_dict['sub'] = pd.read_csv(r'{}\\{}'.format(source_folder,v),sep = '|',encoding = 'utf-8')\n",
    "            new_dict['title'] = v\n",
    "            new_list.append(new_dict)\n",
    "    new_df = pd.DataFrame(new_list)\n",
    "    return new_df"
   ]
  },
  {
   "cell_type": "code",
   "execution_count": null,
   "metadata": {},
   "outputs": [],
   "source": [
    "title = read_csv_infolder(r'C:\\Users\\dty\\Documents\\github\\fine dust2\\data\\환경기상데이터\\노원구')"
   ]
  },
  {
   "cell_type": "code",
   "execution_count": null,
   "metadata": {},
   "outputs": [],
   "source": [
    "for idx in range(0, len(title.title)):\n",
    "    temp = title.title[idx]\n",
    "    v1 = pd.read_csv(r'C:\\Users\\dty\\Documents\\github\\fine dust2\\data\\환경기상데이터\\노원구\\{}'.format(temp),sep=',',index_col=10)\n",
    "    v1 = v1.reset_index()\n",
    "    v1 = v1.drop(columns = 'index')\n",
    "    v1.to_csv(r\"C:\\Users\\dty\\Documents\\github\\fine dust2\\data\\환경기상데이터\\노원구\\v1.csv\", mode='a', header=True)"
   ]
  },
  {
   "cell_type": "code",
   "execution_count": null,
   "metadata": {},
   "outputs": [],
   "source": [
    "len(v1)"
   ]
  },
  {
   "cell_type": "code",
   "execution_count": null,
   "metadata": {},
   "outputs": [],
   "source": [
    "v1 = pd.read_csv(r'C:\\Users\\dty\\Documents\\github\\fine dust2\\data\\환경기상데이터\\노원구\\v1.csv', sep=',',index_col=0)"
   ]
  },
  {
   "cell_type": "code",
   "execution_count": null,
   "metadata": {},
   "outputs": [],
   "source": [
    "v1 = v1.reset_index()\n",
    "v1 = v1.drop(columns = 'index')\n",
    "v1"
   ]
  },
  {
   "cell_type": "code",
   "execution_count": null,
   "metadata": {},
   "outputs": [],
   "source": [
    "# columns 마다 value_counts 생성 후 리스트로 반납\n",
    "def vcs(df):\n",
    "    ct = []\n",
    "    col_index = df.columns\n",
    "    for idx in col_index:\n",
    "        a = df['{}'.format(idx)]\n",
    "        a2 = (a.value_counts())\n",
    "        ct.append(a2)\n",
    "    return ct\n"
   ]
  },
  {
   "cell_type": "code",
   "execution_count": null,
   "metadata": {},
   "outputs": [],
   "source": [
    "a = vcs(v1)"
   ]
  },
  {
   "cell_type": "code",
   "execution_count": null,
   "metadata": {},
   "outputs": [],
   "source": [
    "v1 = v1.drop(columns = 'co2').drop(columns = 'vocs')"
   ]
  },
  {
   "cell_type": "code",
   "execution_count": null,
   "metadata": {},
   "outputs": [],
   "source": [
    "v1"
   ]
  },
  {
   "cell_type": "code",
   "execution_count": null,
   "metadata": {},
   "outputs": [],
   "source": [
    "v1 = v1.loc[v1['flag']!=-999,:]"
   ]
  },
  {
   "cell_type": "code",
   "execution_count": null,
   "metadata": {},
   "outputs": [],
   "source": [
    "v1 = v1.loc[v1['temp']!='-999.0',:]"
   ]
  },
  {
   "cell_type": "code",
   "execution_count": null,
   "metadata": {},
   "outputs": [],
   "source": [
    "a = vcs(v1)"
   ]
  },
  {
   "cell_type": "code",
   "execution_count": null,
   "metadata": {},
   "outputs": [],
   "source": [
    "v1.to_csv(r\"C:\\Users\\dty\\Documents\\github\\fine dust2\\data\\환경기상데이터\\노원구\\v1_1.csv\", mode='w', header=True)"
   ]
  },
  {
   "cell_type": "code",
   "execution_count": null,
   "metadata": {},
   "outputs": [],
   "source": [
    "v11 = pd.read_csv(r'C:\\Users\\dty\\Documents\\github\\fine dust2\\data\\환경기상데이터\\노원구\\v1_1.csv',index_col=0)"
   ]
  },
  {
   "cell_type": "code",
   "execution_count": null,
   "metadata": {},
   "outputs": [],
   "source": [
    "aa = vcs(v11)"
   ]
  },
  {
   "cell_type": "code",
   "execution_count": null,
   "metadata": {},
   "outputs": [],
   "source": [
    "aa[7]"
   ]
  },
  {
   "cell_type": "code",
   "execution_count": null,
   "metadata": {},
   "outputs": [],
   "source": [
    "len(v11)"
   ]
  },
  {
   "cell_type": "code",
   "execution_count": null,
   "metadata": {},
   "outputs": [],
   "source": []
  }
 ],
 "metadata": {
  "kernelspec": {
   "display_name": "Python 3",
   "language": "python",
   "name": "python3"
  },
  "language_info": {
   "codemirror_mode": {
    "name": "ipython",
    "version": 3
   },
   "file_extension": ".py",
   "mimetype": "text/x-python",
   "name": "python",
   "nbconvert_exporter": "python",
   "pygments_lexer": "ipython3",
   "version": "3.6.8"
  }
 },
 "nbformat": 4,
 "nbformat_minor": 2
}
