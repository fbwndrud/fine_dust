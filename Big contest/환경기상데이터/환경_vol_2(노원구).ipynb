{
 "cells": [
  {
   "cell_type": "code",
   "execution_count": null,
   "metadata": {},
   "outputs": [],
   "source": [
    "import pandas as pd"
   ]
  },
  {
   "cell_type": "code",
   "execution_count": null,
   "metadata": {},
   "outputs": [],
   "source": [
    "#읽어오고 전처리 및 숫자화 하기\n",
    "df = pd.read_csv('노원구_환경데이터.csv', index_col = 0)\n",
    "df = df.reset_index(drop = True)\n",
    "df = df.loc[df['pm25']!='pm25',:]\n",
    "df.pm25 = pd.to_numeric(df.pm25)\n",
    "df.pm10 = pd.to_numeric(df.pm10)\n",
    "df.tm = pd.to_numeric(df.tm)\n",
    "df.flag = pd.to_numeric(df.flag)\n",
    "df.noise = pd.to_numeric(df.noise)\n",
    "df.humi = pd.to_numeric(df.humi)\n",
    "df.temp = pd.to_numeric(df.temp)"
   ]
  },
  {
   "cell_type": "code",
   "execution_count": null,
   "metadata": {},
   "outputs": [],
   "source": [
    "#년/월/일 만 구하기\n",
    "def date_cuter(dates):\n",
    "    datelist=[]\n",
    "    for idx in dates:\n",
    "        date = str(idx)\n",
    "        datelist.append(date[:8])\n",
    "    return datelist"
   ]
  },
  {
   "cell_type": "code",
   "execution_count": null,
   "metadata": {},
   "outputs": [],
   "source": [
    "df['date'] = date_cuter(df.tm)\n",
    "df['date'] = pd.to_datetime(df['date'])\n",
    "df.index = df.date\n",
    "df = df.drop(columns = 'flag')"
   ]
  },
  {
   "cell_type": "code",
   "execution_count": null,
   "metadata": {},
   "outputs": [],
   "source": [
    "#lableing for pm2.5(편의상 25로 되어있음)\n",
    "df['label_pm25'] = 0\n",
    "df['label_pm10'] = 0\n",
    "df_temp0 = df.loc[df.pm25 <= 15,:]\n",
    "df_temp0['label_pm25'] = 0\n",
    "df_temp1 = df.loc[df.pm25 >= 16,:]\n",
    "df_temp1 = df_temp1.loc[df_temp1.pm25 <= 35,:]\n",
    "df_temp1['label_pm25'] = 1\n",
    "df_temp2 = df.loc[df.pm25 <= 75,:]\n",
    "df_temp2 = df_temp2.loc[df_temp2.pm25 >= 36,:]\n",
    "df_temp2['label_pm25'] = 2\n",
    "df_temp3 = df.loc[df.pm25 >= 76,:]\n",
    "df_temp3['label_pm25'] = 3\n",
    "df_tp=df_temp0.append(df_temp1).append(df_temp2).append(df_temp3)"
   ]
  },
  {
   "cell_type": "code",
   "execution_count": null,
   "metadata": {},
   "outputs": [],
   "source": [
    "#labeling for pm10(미세먼지)\n",
    "df_temp0 = df_tp.loc[df_tp.pm10 <= 30,:]\n",
    "df_temp0['label_pm10'] = 0\n",
    "df_temp1 = df_tp.loc[df_tp.pm10 >= 31,:]\n",
    "df_temp1 = df_temp1.loc[df_temp1.pm10 <= 80,:]\n",
    "df_temp1['label_pm10'] = 1\n",
    "df_temp2 = df_tp.loc[df_tp.pm10 <= 150,:]\n",
    "df_temp2 = df_temp2.loc[df_temp2.pm10 >= 81,:]\n",
    "df_temp2['label_pm10'] = 2\n",
    "df_temp3 = df_tp.loc[df_tp.pm10 >= 151,:]\n",
    "df_temp3['label_pm10'] = 3\n",
    "df_labeled=df_temp0.append(df_temp1).append(df_temp2).append(df_temp3)"
   ]
  },
  {
   "cell_type": "code",
   "execution_count": null,
   "metadata": {},
   "outputs": [],
   "source": [
    "#전처리 덜된 값 제거\n",
    "df_labeled = df_labeled.loc[df_labeled.pm25 != -999,:]"
   ]
  },
  {
   "cell_type": "code",
   "execution_count": null,
   "metadata": {},
   "outputs": [],
   "source": [
    "#Save 및 확인\n",
    "df_labeled.to_csv(\"노원구_labeled.csv\", mode='w', header=True)\n",
    "print(df_labeled.loc[df_labeled['serial'] == 'V10O1610102',:].describe())"
   ]
  },
  {
   "cell_type": "code",
   "execution_count": null,
   "metadata": {},
   "outputs": [],
   "source": [
    "#Daily 평균 값으로 데이터 프레임 만들기\n",
    "df_mean = df_labeled.groupby(df_labeled.index).mean()\n",
    "df_mean.sort_values('pm10', ascending=False).head(20)"
   ]
  },
  {
   "cell_type": "code",
   "execution_count": null,
   "metadata": {},
   "outputs": [],
   "source": [
    "#그래프화\n",
    "import matplotlib.pyplot as plt\n",
    "%matplotlib inline\n",
    "df_mean.pm10.plot.line()"
   ]
  }
 ],
 "metadata": {
  "kernelspec": {
   "display_name": "Python 3",
   "language": "python",
   "name": "python3"
  },
  "language_info": {
   "codemirror_mode": {
    "name": "ipython",
    "version": 3
   },
   "file_extension": ".py",
   "mimetype": "text/x-python",
   "name": "python",
   "nbconvert_exporter": "python",
   "pygments_lexer": "ipython3",
   "version": "3.6.8"
  }
 },
 "nbformat": 4,
 "nbformat_minor": 2
}
