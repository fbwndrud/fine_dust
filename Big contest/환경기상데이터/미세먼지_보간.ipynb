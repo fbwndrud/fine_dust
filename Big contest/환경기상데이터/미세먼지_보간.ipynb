{
 "cells": [
  {
   "cell_type": "code",
   "execution_count": 2,
   "metadata": {},
   "outputs": [],
   "source": [
    "import matplotlib.pyplot as plt\n",
    "import numpy as np\n",
    "import pandas as pd\n",
    "from scipy.interpolate import griddata\n",
    "from sklearn.preprocessing import MinMaxScaler"
   ]
  },
  {
   "cell_type": "markdown",
   "metadata": {},
   "source": [
    "### 1년치 데이터 불러오기"
   ]
  },
  {
   "cell_type": "code",
   "execution_count": 33,
   "metadata": {},
   "outputs": [],
   "source": [
    "date_daily2 = pd.read_csv(r'미세먼지_daily_동_v2.csv', index_col=0)\n",
    "a = pd.read_csv('노원구_list.csv',index_col = 0)\n",
    "\n",
    "###위도 경도 범위를 0~1로 스케일링\n",
    "aa0 = a['위도'].to_list()\n",
    "aa1 = a['경도'].to_list()\n",
    "result = list(map(lambda x, y: [x, y], aa0, aa1))\n",
    "scaler = MinMaxScaler()\n",
    "scaler.fit(result)\n",
    "MinMaxScaler(copy=True, feature_range=(0, 1))\n",
    "scaler.transform(result)\n",
    "a = a.join(pd.DataFrame(scaler.transform(result)))\n",
    "a.columns = ['경도','동','위도','위도_sc','경도_sc']\n",
    "a = a[['동','위도','위도_sc','경도','경도_sc']]\n",
    "temp = a.merge(date_daily2, on='동', how = 'outer')"
   ]
  },
  {
   "cell_type": "code",
   "execution_count": 34,
   "metadata": {},
   "outputs": [],
   "source": [
    "###저장할 데이터 프레임 지정\n",
    "pm10_dt1 = date_daily2[['동','pm10','date_daily']]"
   ]
  },
  {
   "cell_type": "code",
   "execution_count": 35,
   "metadata": {},
   "outputs": [],
   "source": [
    "for idx in date_daily2['date_daily'].unique():\n",
    "    ####빈 날짜 가져오기\n",
    "    daylist = temp[temp['date_daily']==idx]\n",
    "    alist = list(set(a['동'].tolist()).difference(set(daylist['동'].tolist())))\n",
    "    alist2 = a[a['동'].isin(alist)]\n",
    "\n",
    "    ###꼭지점을 평균값으로 지정\n",
    "    Vertex = [{'위도_sc':0,\n",
    "              '경도_sc':0,\n",
    "              'pm10':daylist['pm10'].mean()\n",
    "              },\n",
    "             {'위도_sc':0,\n",
    "              '경도_sc':1,\n",
    "              'pm10':daylist['pm10'].mean()},\n",
    "             {'위도_sc':1,\n",
    "              '경도_sc':0,\n",
    "              'pm10':daylist['pm10'].mean()},\n",
    "             {'위도_sc':1,\n",
    "              '경도_sc':1,\n",
    "              'pm10':daylist['pm10'].mean()}]\n",
    "    Vertex = pd.DataFrame(Vertex)\n",
    "\n",
    "    ###미세먼지 데이터 보간\n",
    "    x = daylist['위도_sc'].append(Vertex['위도_sc']).values\n",
    "    y = daylist['경도_sc'].append(Vertex['경도_sc']).values\n",
    "    z = daylist['pm10'].append(Vertex['pm10']).values\n",
    "    xi = alist2['위도_sc']\n",
    "    yi = alist2['경도_sc']\n",
    "    gotpm10=griddata((x,y),z,(xi,yi),method='cubic')\n",
    "    \n",
    "    ###데이터 프레임으로 만들어서 추가하기\n",
    "    temp_v1 = list(map(lambda x,x1: [x,x1, idx], alist2['동'], gotpm10))\n",
    "    temp_v2 = pd.DataFrame(temp_v1)\n",
    "    temp_v2.columns = ['동','pm10','date_daily']\n",
    "    pm10_dt1 = pm10_dt1.append(temp_v2)"
   ]
  },
  {
   "cell_type": "code",
   "execution_count": 36,
   "metadata": {},
   "outputs": [],
   "source": [
    "pm10_dt1 = pm10_dt1.sort_values('동').reset_index(drop=True)"
   ]
  },
  {
   "cell_type": "markdown",
   "metadata": {},
   "source": [
    "### pm25"
   ]
  },
  {
   "cell_type": "code",
   "execution_count": 37,
   "metadata": {},
   "outputs": [],
   "source": [
    "###저장할 데이터 프레임 지정\n",
    "pm25_dt1 = date_daily2[['동','pm25','date_daily']]"
   ]
  },
  {
   "cell_type": "code",
   "execution_count": 38,
   "metadata": {},
   "outputs": [],
   "source": [
    "for idx in date_daily2['date_daily'].unique():\n",
    "    ####빈 날짜 가져오기\n",
    "    daylist = temp[temp['date_daily']==idx]\n",
    "    alist = list(set(a['동'].tolist()).difference(set(daylist['동'].tolist())))\n",
    "    alist2 = a[a['동'].isin(alist)]\n",
    "\n",
    "    ###꼭지점을 평균값으로 지정\n",
    "    Vertex = [{'위도_sc':0,\n",
    "              '경도_sc':0,\n",
    "              'pm25':daylist['pm25'].mean()\n",
    "              },\n",
    "             {'위도_sc':0,\n",
    "              '경도_sc':1,\n",
    "              'pm25':daylist['pm25'].mean()},\n",
    "             {'위도_sc':1,\n",
    "              '경도_sc':0,\n",
    "              'pm25':daylist['pm25'].mean()},\n",
    "             {'위도_sc':1,\n",
    "              '경도_sc':1,\n",
    "              'pm25':daylist['pm25'].mean()}]\n",
    "    Vertex = pd.DataFrame(Vertex)\n",
    "\n",
    "    ###미세먼지 데이터 보간\n",
    "    x = daylist['위도_sc'].append(Vertex['위도_sc']).values\n",
    "    y = daylist['경도_sc'].append(Vertex['경도_sc']).values\n",
    "    z = daylist['pm25'].append(Vertex['pm25']).values\n",
    "    xi = alist2['위도_sc']\n",
    "    yi = alist2['경도_sc']\n",
    "    gotpm25=griddata((x,y),z,(xi,yi),method='cubic')\n",
    "    \n",
    "    ###데이터 프레임으로 만들어서 추가하기\n",
    "    temp_v1 = list(map(lambda x,x1: [x,x1, idx], alist2['동'], gotpm25))\n",
    "    temp_v2 = pd.DataFrame(temp_v1)\n",
    "    temp_v2.columns = ['동','pm25','date_daily']\n",
    "    pm25_dt1 = pm25_dt1.append(temp_v2)"
   ]
  },
  {
   "cell_type": "code",
   "execution_count": 39,
   "metadata": {},
   "outputs": [],
   "source": [
    "pm25_dt1 = pm25_dt1.sort_values('date_daily').reset_index(drop=True)\n",
    "pm25_dt1.merge(pm10_dt1,how = 'outer',on=['동','date_daily']).to_csv('노원구_pm보간데이터.csv')"
   ]
  },
  {
   "cell_type": "code",
   "execution_count": 40,
   "metadata": {},
   "outputs": [
    {
     "data": {
      "text/plain": [
       "상계9동      365\n",
       "월계2동      365\n",
       "월계3동      365\n",
       "하계2동      365\n",
       "공릉2동      365\n",
       "상계5동      365\n",
       "상계8동      365\n",
       "중계2,3동    365\n",
       "중계1동      365\n",
       "상계1동      365\n",
       "월계1동      365\n",
       "상계10동     365\n",
       "공릉1동      365\n",
       "상계2동      365\n",
       "하계1동      365\n",
       "상계3,4동    365\n",
       "상계6,7동    365\n",
       "중계4동      365\n",
       "중계본동      365\n",
       "Name: 동, dtype: int64"
      ]
     },
     "execution_count": 40,
     "metadata": {},
     "output_type": "execute_result"
    }
   ],
   "source": [
    "pm25_dt1.merge(pm10_dt1,how = 'outer',on=['동','date_daily'])['동'].value_counts()"
   ]
  },
  {
   "cell_type": "markdown",
   "metadata": {},
   "source": [
    "# 종로구 보간하기"
   ]
  },
  {
   "cell_type": "code",
   "execution_count": 22,
   "metadata": {},
   "outputs": [],
   "source": [
    "date_daily2 = pd.read_csv(r'미세먼지_종로_daily_동_v2.csv', index_col=0)\n",
    "date_daily2 = date_daily2[date_daily2['동']!='명동']\n",
    "date_daily2 = date_daily2[date_daily2['동']!='천연동']\n",
    "a = pd.read_csv('종로구_list.csv',index_col = 0)\n",
    "\n",
    "###위도 경도 범위를 0~1로 스케일링\n",
    "aa0 = a['위도'].to_list()\n",
    "aa1 = a['경도'].to_list()\n",
    "result = list(map(lambda x, y: [x, y], aa0, aa1))\n",
    "scaler = MinMaxScaler()\n",
    "scaler.fit(result)\n",
    "MinMaxScaler(copy=True, feature_range=(0, 1))\n",
    "scaler.transform(result)\n",
    "a = a.join(pd.DataFrame(scaler.transform(result)))\n",
    "a.columns = ['경도','동','위도','위도_sc','경도_sc']\n",
    "a = a[['동','위도','위도_sc','경도','경도_sc']]\n",
    "temp = a.merge(date_daily2, on='동', how = 'outer')"
   ]
  },
  {
   "cell_type": "code",
   "execution_count": 23,
   "metadata": {},
   "outputs": [],
   "source": [
    "###저장할 데이터 프레임 지정\n",
    "pm10_dt1 = date_daily2[['동','pm10','date_daily']]"
   ]
  },
  {
   "cell_type": "code",
   "execution_count": 24,
   "metadata": {},
   "outputs": [],
   "source": [
    "for idx in date_daily2['date_daily'].unique():\n",
    "    ####빈 날짜 가져오기\n",
    "    daylist = temp[temp['date_daily']==idx]\n",
    "    alist = list(set(a['동'].tolist()).difference(set(daylist['동'].tolist())))\n",
    "    alist2 = a[a['동'].isin(alist)]\n",
    "\n",
    "    ###꼭지점을 평균값으로 지정\n",
    "    Vertex = [{'위도_sc':0,\n",
    "              '경도_sc':0,\n",
    "              'pm10':daylist['pm10'].mean()\n",
    "              },\n",
    "             {'위도_sc':0,\n",
    "              '경도_sc':1,\n",
    "              'pm10':daylist['pm10'].mean()},\n",
    "             {'위도_sc':1,\n",
    "              '경도_sc':0,\n",
    "              'pm10':daylist['pm10'].mean()},\n",
    "             {'위도_sc':1,\n",
    "              '경도_sc':1,\n",
    "              'pm10':daylist['pm10'].mean()}]\n",
    "    Vertex = pd.DataFrame(Vertex)\n",
    "\n",
    "    ###미세먼지 데이터 보간\n",
    "    x = daylist['위도_sc'].append(Vertex['위도_sc']).values\n",
    "    y = daylist['경도_sc'].append(Vertex['경도_sc']).values\n",
    "    z = daylist['pm10'].append(Vertex['pm10']).values\n",
    "    xi = alist2['위도_sc']\n",
    "    yi = alist2['경도_sc']\n",
    "    gotpm10=griddata((x,y),z,(xi,yi),method='cubic')\n",
    "    \n",
    "    ###데이터 프레임으로 만들어서 추가하기\n",
    "    temp_v1 = list(map(lambda x,x1: [x,x1, idx], alist2['동'], gotpm10))\n",
    "    temp_v2 = pd.DataFrame(temp_v1)\n",
    "    temp_v2.columns = ['동','pm10','date_daily']\n",
    "    pm10_dt1 = pm10_dt1.append(temp_v2)"
   ]
  },
  {
   "cell_type": "code",
   "execution_count": 25,
   "metadata": {},
   "outputs": [],
   "source": [
    "pm10_dt1 = pm10_dt1.sort_values('동').reset_index(drop=True)\n",
    "pm10_dt1.to_csv('종로구_pm10_보간데이터.csv')"
   ]
  },
  {
   "cell_type": "markdown",
   "metadata": {},
   "source": [
    "### pm25"
   ]
  },
  {
   "cell_type": "code",
   "execution_count": 26,
   "metadata": {},
   "outputs": [],
   "source": [
    "###저장할 데이터 프레임 지정\n",
    "pm25_dt1 = date_daily2[['동','pm25','date_daily']]"
   ]
  },
  {
   "cell_type": "code",
   "execution_count": 27,
   "metadata": {},
   "outputs": [],
   "source": [
    "for idx in date_daily2['date_daily'].unique():\n",
    "    ####빈 날짜 가져오기\n",
    "    daylist = temp[temp['date_daily']==idx]\n",
    "    alist = list(set(a['동'].tolist()).difference(set(daylist['동'].tolist())))\n",
    "    alist2 = a[a['동'].isin(alist)]\n",
    "\n",
    "    ###꼭지점을 평균값으로 지정\n",
    "    Vertex = [{'위도_sc':0,\n",
    "              '경도_sc':0,\n",
    "              'pm25':daylist['pm25'].mean()\n",
    "              },\n",
    "             {'위도_sc':0,\n",
    "              '경도_sc':1,\n",
    "              'pm25':daylist['pm25'].mean()},\n",
    "             {'위도_sc':1,\n",
    "              '경도_sc':0,\n",
    "              'pm25':daylist['pm25'].mean()},\n",
    "             {'위도_sc':1,\n",
    "              '경도_sc':1,\n",
    "              'pm25':daylist['pm25'].mean()}]\n",
    "    Vertex = pd.DataFrame(Vertex)\n",
    "\n",
    "    ###미세먼지 데이터 보간\n",
    "    x = daylist['위도_sc'].append(Vertex['위도_sc']).values\n",
    "    y = daylist['경도_sc'].append(Vertex['경도_sc']).values\n",
    "    z = daylist['pm25'].append(Vertex['pm25']).values\n",
    "    xi = alist2['위도_sc']\n",
    "    yi = alist2['경도_sc']\n",
    "    gotpm25=griddata((x,y),z,(xi,yi),method='cubic')\n",
    "    \n",
    "    ###데이터 프레임으로 만들어서 추가하기\n",
    "    temp_v1 = list(map(lambda x,x1: [x,x1, idx], alist2['동'], gotpm25))\n",
    "    temp_v2 = pd.DataFrame(temp_v1)\n",
    "    temp_v2.columns = ['동','pm25','date_daily']\n",
    "    pm25_dt1 = pm25_dt1.append(temp_v2)"
   ]
  },
  {
   "cell_type": "code",
   "execution_count": 28,
   "metadata": {},
   "outputs": [],
   "source": [
    "pm25_dt1 = pm25_dt1.sort_values('date_daily').reset_index(drop=True)\n",
    "pm25_dt1.to_csv('종로구_pm25_보간데이터.csv')"
   ]
  },
  {
   "cell_type": "code",
   "execution_count": 29,
   "metadata": {},
   "outputs": [],
   "source": [
    "pm25_dt1.merge(pm10_dt1,how = 'outer',on=['동','date_daily']).to_csv('종로구_pm보간데이터.csv')"
   ]
  },
  {
   "cell_type": "code",
   "execution_count": 31,
   "metadata": {},
   "outputs": [
    {
     "data": {
      "text/plain": [
       "종로 1,2,3,4가동    365\n",
       "창신1동            365\n",
       "창신2동            365\n",
       "숭인2동            365\n",
       "청운효자동           365\n",
       "가회동             365\n",
       "무악동             365\n",
       "혜화동             365\n",
       "부암동             365\n",
       "이화동             365\n",
       "평창동             365\n",
       "교남동             365\n",
       "삼청동             365\n",
       "숭인1동            365\n",
       "창신3동            365\n",
       "사직동             365\n",
       "종로5,6가동         365\n",
       "Name: 동, dtype: int64"
      ]
     },
     "execution_count": 31,
     "metadata": {},
     "output_type": "execute_result"
    }
   ],
   "source": [
    "pm25_dt1.merge(pm10_dt1,how = 'outer',on=['동','date_daily'])['동'].value_counts()"
   ]
  },
  {
   "cell_type": "code",
   "execution_count": null,
   "metadata": {},
   "outputs": [],
   "source": []
  }
 ],
 "metadata": {
  "kernelspec": {
   "display_name": "Python 3",
   "language": "python",
   "name": "python3"
  },
  "language_info": {
   "codemirror_mode": {
    "name": "ipython",
    "version": 3
   },
   "file_extension": ".py",
   "mimetype": "text/x-python",
   "name": "python",
   "nbconvert_exporter": "python",
   "pygments_lexer": "ipython3",
   "version": "3.6.8"
  }
 },
 "nbformat": 4,
 "nbformat_minor": 2
}
