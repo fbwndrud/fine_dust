{
 "cells": [
  {
   "cell_type": "code",
   "execution_count": 1,
   "metadata": {},
   "outputs": [],
   "source": [
    "import requests\n",
    "from bs4 import BeautifulSoup"
   ]
  },
  {
   "cell_type": "code",
   "execution_count": 3,
   "metadata": {},
   "outputs": [],
   "source": [
    "# https://www.bok.or.kr/portal/bbs/B0000245/list.do?menuNo=200761&pageIndex=31\n",
    "url ='https://www.bok.or.kr/portal/bbs/B0000245/list.do?menuNo=200761'\n",
    "\n",
    "def pageindex():\n",
    "    pageIndex = []\n",
    "    for i in range(1,30): #29P까지\n",
    "        pageIndex.append (i)\n",
    "    print (pageIndex)\n",
    "    return pageIndex"
   ]
  },
  {
   "cell_type": "code",
   "execution_count": 2,
   "metadata": {},
   "outputs": [],
   "source": [
    "import PyPDF2\n",
    "import re"
   ]
  },
  {
   "cell_type": "code",
   "execution_count": null,
   "metadata": {},
   "outputs": [],
   "source": [
    "def bok():\n",
    "    \n",
    "    import re\n",
    "    \n",
    "    pageIndex= pageindex()\n",
    "    bs_list = []\n",
    "    \n",
    "    for i in range(len(pageIndex)):\n",
    "\n",
    "        url ='https://www.bok.or.kr/portal/bbs/B0000245/list.do?'\n",
    "\n",
    "        params = ({\n",
    "             'menuNo' : '200761',\n",
    "             'pageIndex': pageIndex[i]\n",
    "         })\n",
    "\n",
    "        resp = requests.get(url,params)\n",
    "        soup = BeautifulSoup(resp.content)\n",
    "\n",
    "        find_soup = soup.find('div',class_ = 'bdLine type2')\n",
    "\n",
    "        all_li_List = find_soup.find_all('li')\n",
    "\n",
    "    #=================#print('all_li',len(all_li_List))========================================    \n",
    "        find_li_List = []\n",
    "\n",
    "        for j in range(len(all_li_List)):\n",
    "            try :\n",
    "                temp = all_li_List[j].find('div',class_ = \"row\")\n",
    "\n",
    "                if temp:\n",
    "                    find_li_List.append(temp) \n",
    "\n",
    "            except Exception:\n",
    "                pass\n",
    "        print(len(find_li_List))# 한페이지에 가져오는 리스트수\n",
    "    #=============================================================       \n",
    "\n",
    "        for j in range(len(find_li_List)):\n",
    "\n",
    "            try:\n",
    "                title_dates  = find_li_List[j].find('span',class_ = \"titlesub\").text\n",
    "                upload_dates = find_li_List[j].find('span',class_ = \"date\").text\n",
    "                pdf_link= find_li_List[j].find('div',class_ = \"fileGoupBox\").find('a')['href']\n",
    "                pdf_title= find_li_List[j].find('div',class_ = \"fileGoupBox\").find('a').text\n",
    "\n",
    "\n",
    "                if pdf_title.find('pdf')== -1:\n",
    "                    pdf_link = pdf_link[:len(pdf_link)-1]+'2'\n",
    "\n",
    "                pdf_link = 'https://www.bok.or.kr'+pdf_link\n",
    "                file_path = 'E:\\\\BOK\\\\{0}_{1}.pdf'.format(title_dates, upload_dates)\n",
    "                file_result_path = 'E:\\\\BOK\\\\result{0}_{1}.txt'.format(title_dates, upload_dates)\n",
    "            except Exception:\n",
    "                pass\n",
    "    #===============pdf download=======================\n",
    "    #         downloads_pdf(pdf_link,file_path) #피디에프 다운로드 함수화\n",
    "\n",
    "    #===============pdf to text=======================\n",
    "    #         text = convert_pdf_to_txt(file_path)\n",
    "    #         print (text)\n",
    "    #=================================================\n",
    "            write_file_text(file_result_path)\n",
    "    #=================파일로저장======================   \n",
    "            bs_list.append({\n",
    "                'Title Date':title_dates,\n",
    "                'Upload Date':upload_dates,\n",
    "                'pdf_link': pdf_link,\n",
    "                'pdf_title':pdf_title\n",
    "            })\n",
    "\n",
    "\n",
    "    \n",
    "    return bs_list\n",
    "    \n"
   ]
  },
  {
   "cell_type": "code",
   "execution_count": 1,
   "metadata": {},
   "outputs": [],
   "source": [
    "def write_file_text(path): #저장될 파일 path\n",
    "    f= open(path,'wt',encoding='UTF8') \n",
    "    f.write(text)\n",
    "    f.close\n",
    "    "
   ]
  },
  {
   "cell_type": "code",
   "execution_count": null,
   "metadata": {},
   "outputs": [],
   "source": []
  },
  {
   "cell_type": "code",
   "execution_count": null,
   "metadata": {},
   "outputs": [],
   "source": [
    "bok_list = bok():\n",
    "print(bok_list)\n",
    "len(bok_list)"
   ]
  },
  {
   "cell_type": "code",
   "execution_count": null,
   "metadata": {},
   "outputs": [],
   "source": [
    "from pprint import pprint\n",
    "\n",
    "pprint(bok_list)"
   ]
  },
  {
   "cell_type": "code",
   "execution_count": null,
   "metadata": {},
   "outputs": [],
   "source": [
    "def downloads_pdf(pdf_link,file_path):\n",
    "    file_res = requests.get(pdf_link)\n",
    "    \n",
    "    with open(file_path,'wb') as f: \n",
    "        f.write(file_res.content)\n"
   ]
  },
  {
   "cell_type": "code",
   "execution_count": null,
   "metadata": {},
   "outputs": [],
   "source": [
    "# len(bs_list)"
   ]
  },
  {
   "cell_type": "code",
   "execution_count": 4,
   "metadata": {},
   "outputs": [],
   "source": [
    "# !pip install pdfminer"
   ]
  },
  {
   "cell_type": "code",
   "execution_count": null,
   "metadata": {},
   "outputs": [],
   "source": [
    "from pdfminer.pdfinterp import PDFResourceManager, PDFPageInterpreter\n",
    "from pdfminer.converter import TextConverter\n",
    "from pdfminer.layout import LAParams\n",
    "from pdfminer.pdfpage import PDFPage\n",
    "from io import StringIO\n",
    "\n",
    "def convert_pdf_to_txt(path):\n",
    "#   pdf 리소스 매니저 객체 생성\n",
    "    rsrcmgr = PDFResourceManager()\n",
    "    \n",
    "    retstr = StringIO()     \n",
    "    #문자열 데이터를 파일처럼 처리하는 stringio -> pdf 파일 내용이 여기 담김\n",
    "    \n",
    "    codec = 'utf-8'\n",
    "    laparams = LAParams()\n",
    "    device = TextConverter(rsrcmgr, retstr, codec=codec, laparams=laparams)\n",
    "    fp = open(path, 'rb')\n",
    "    interpreter = PDFPageInterpreter(rsrcmgr, device)\n",
    "    password = \"\"\n",
    "    maxpages = 0\n",
    "    caching = True\n",
    "    pagenos=set()\n",
    "\n",
    "    for page in PDFPage.get_pages(fp, \n",
    "                                  pagenos, \n",
    "                                  maxpages=maxpages, \n",
    "                                  password=password,\n",
    "                                  caching=caching, \n",
    "                                  check_extractable=True):\n",
    "        \n",
    "        interpreter.process_page(page)\n",
    "\n",
    "    text = retstr.getvalue() #text 에 결과 담김 \n",
    "\n",
    "    fp.close()\n",
    "    device.close()\n",
    "    retstr.close()\n",
    "    return text"
   ]
  },
  {
   "cell_type": "code",
   "execution_count": null,
   "metadata": {},
   "outputs": [],
   "source": []
  },
  {
   "cell_type": "code",
   "execution_count": null,
   "metadata": {},
   "outputs": [],
   "source": []
  }
 ],
 "metadata": {
  "kernelspec": {
   "display_name": "Python 3",
   "language": "python",
   "name": "python3"
  },
  "language_info": {
   "codemirror_mode": {
    "name": "ipython",
    "version": 3
   },
   "file_extension": ".py",
   "mimetype": "text/x-python",
   "name": "python",
   "nbconvert_exporter": "python",
   "pygments_lexer": "ipython3",
   "version": "3.6.8"
  }
 },
 "nbformat": 4,
 "nbformat_minor": 2
}
